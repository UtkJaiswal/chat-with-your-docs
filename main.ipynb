{
 "cells": [
  {
   "cell_type": "markdown",
   "metadata": {},
   "source": [
    "## Dot env setup"
   ]
  },
  {
   "cell_type": "code",
   "execution_count": 16,
   "metadata": {},
   "outputs": [
    {
     "data": {
      "text/plain": [
       "True"
      ]
     },
     "execution_count": 16,
     "metadata": {},
     "output_type": "execute_result"
    }
   ],
   "source": [
    "import os\n",
    "from dotenv import load_dotenv\n",
    "load_dotenv()"
   ]
  },
  {
   "cell_type": "markdown",
   "metadata": {},
   "source": [
    "## GEMINI KEY is set"
   ]
  },
  {
   "cell_type": "code",
   "execution_count": 17,
   "metadata": {},
   "outputs": [
    {
     "name": "stdout",
     "output_type": "stream",
     "text": [
      "GEMINI_API_KEY is set\n"
     ]
    }
   ],
   "source": [
    "gemini_api_key = os.getenv('GEMINI_API_KEY')\n",
    "\n",
    "if gemini_api_key is None:\n",
    "    print(\"GEMINI_API_KEY is not set\")\n",
    "else:\n",
    "    os.environ['GEMINI_API_KEY'] = gemini_api_key\n",
    "    print(f\"GEMINI_API_KEY is set\")\n",
    "\n"
   ]
  },
  {
   "cell_type": "markdown",
   "metadata": {},
   "source": [
    "## Code to load data from the documents (PDFs)"
   ]
  },
  {
   "cell_type": "code",
   "execution_count": 18,
   "metadata": {},
   "outputs": [],
   "source": [
    "from llama_index.core import VectorStoreIndex, SimpleDirectoryReader\n",
    "from llama_index.llms.gemini import Gemini\n",
    "\n",
    "\n",
    "documents = SimpleDirectoryReader(\"data\").load_data()"
   ]
  },
  {
   "cell_type": "markdown",
   "metadata": {},
   "source": [
    "## Setting embedding model and Large Language Model"
   ]
  },
  {
   "cell_type": "code",
   "execution_count": 25,
   "metadata": {},
   "outputs": [
    {
     "name": "stderr",
     "output_type": "stream",
     "text": [
      "I0000 00:00:1721915525.430278   12836 subchannel.cc:806] subchannel 0x545fe00 {address=ipv6:%5B2404:6800:4009:821::200a%5D:443, args={grpc.client_channel_factory=0x404e6f0, grpc.default_authority=generativelanguage.googleapis.com:443, grpc.dns_enable_srv_queries=1, grpc.http2_scheme=https, grpc.internal.channel_credentials=0x54e8010, grpc.internal.client_channel_call_destination=0x714fd743a390, grpc.internal.event_engine=0x54bf3d0, grpc.internal.security_connector=0x54b73c0, grpc.internal.subchannel_pool=0x404f140, grpc.max_receive_message_length=-1, grpc.max_send_message_length=-1, grpc.primary_user_agent=grpc-python/1.65.1, grpc.resource_quota=0x4050ab0, grpc.server_uri=dns:///generativelanguage.googleapis.com:443}}: connect failed (UNKNOWN:connect: Network is unreachable (101) {created_time:\"2024-07-25T19:22:05.430127036+05:30\"}), backing off for 1000 ms\n",
      "I0000 00:00:1721915525.684506   12831 subchannel.cc:806] subchannel 0x54d5c10 {address=ipv6:%5B2404:6800:4009:802::200a%5D:443, args={grpc.client_channel_factory=0x404e6f0, grpc.default_authority=generativelanguage.googleapis.com:443, grpc.dns_enable_srv_queries=1, grpc.http2_scheme=https, grpc.internal.channel_credentials=0x54e8010, grpc.internal.client_channel_call_destination=0x714fd743a390, grpc.internal.event_engine=0x54c2c60, grpc.internal.security_connector=0x47676f0, grpc.internal.subchannel_pool=0x404f140, grpc.max_receive_message_length=-1, grpc.max_send_message_length=-1, grpc.primary_user_agent=grpc-python/1.65.1, grpc.resource_quota=0x4050ab0, grpc.server_uri=dns:///generativelanguage.googleapis.com:443}}: connect failed (UNKNOWN:connect: Network is unreachable (101) {created_time:\"2024-07-25T19:22:05.684075673+05:30\"}), backing off for 999 ms\n",
      "I0000 00:00:1721915525.938290   12838 subchannel.cc:806] subchannel 0x54c9530 {address=ipv6:%5B2404:6800:4009:812::200a%5D:443, args={grpc.client_channel_factory=0x404e6f0, grpc.default_authority=generativelanguage.googleapis.com:443, grpc.dns_enable_srv_queries=1, grpc.http2_scheme=https, grpc.internal.channel_credentials=0x54e8010, grpc.internal.client_channel_call_destination=0x714fd743a390, grpc.internal.event_engine=0x54e9160, grpc.internal.security_connector=0x54c0740, grpc.internal.subchannel_pool=0x404f140, grpc.max_receive_message_length=-1, grpc.max_send_message_length=-1, grpc.primary_user_agent=grpc-python/1.65.1, grpc.resource_quota=0x4050ab0, grpc.server_uri=dns:///generativelanguage.googleapis.com:443}}: connect failed (UNKNOWN:connect: Network is unreachable (101) {created_time:\"2024-07-25T19:22:05.937846216+05:30\"}), backing off for 999 ms\n",
      "I0000 00:00:1721915526.191779   12835 subchannel.cc:806] subchannel 0x54e3f90 {address=ipv6:%5B2404:6800:4009:813::200a%5D:443, args={grpc.client_channel_factory=0x404e6f0, grpc.default_authority=generativelanguage.googleapis.com:443, grpc.dns_enable_srv_queries=1, grpc.http2_scheme=https, grpc.internal.channel_credentials=0x54e8010, grpc.internal.client_channel_call_destination=0x714fd743a390, grpc.internal.event_engine=0x546d7f0, grpc.internal.security_connector=0x4053e70, grpc.internal.subchannel_pool=0x404f140, grpc.max_receive_message_length=-1, grpc.max_send_message_length=-1, grpc.primary_user_agent=grpc-python/1.65.1, grpc.resource_quota=0x4050ab0, grpc.server_uri=dns:///generativelanguage.googleapis.com:443}}: connect failed (UNKNOWN:connect: Network is unreachable (101) {created_time:\"2024-07-25T19:22:06.19168556+05:30\"}), backing off for 1000 ms\n"
     ]
    }
   ],
   "source": [
    "from llama_index.llms.gemini import Gemini\n",
    "from llama_index.embeddings.gemini import GeminiEmbedding\n",
    "\n",
    "# Set up Gemini LLM\n",
    "llm = Gemini(\n",
    "    model=\"models/gemini-1.5-flash\",\n",
    "    api_key=gemini_api_key\n",
    ")\n",
    "\n",
    "# Set up Gemini Embedding model\n",
    "embed_model = GeminiEmbedding(\n",
    "    model_name=\"models/embedding-001\",\n",
    "    api_key=gemini_api_key)\n",
    "\n"
   ]
  },
  {
   "cell_type": "markdown",
   "metadata": {},
   "source": [
    "## Defining storage context and storing data"
   ]
  },
  {
   "cell_type": "code",
   "execution_count": 26,
   "metadata": {},
   "outputs": [
    {
     "name": "stderr",
     "output_type": "stream",
     "text": [
      "/tmp/ipykernel_9958/1404085075.py:9: DeprecationWarning: Call to deprecated class method from_defaults. (ServiceContext is deprecated, please use `llama_index.settings.Settings` instead.) -- Deprecated since version 0.10.0.\n",
      "  service_context = ServiceContext.from_defaults(llm=llm, embed_model=embed_model)\n"
     ]
    }
   ],
   "source": [
    "from llama_index.core import ServiceContext, Settings, VectorStoreIndex\n",
    "\n",
    "# Configure settings\n",
    "Settings.llm = llm\n",
    "Settings.embed_model = embed_model\n",
    "Settings.chunk_size = 1024\n",
    "\n",
    "# Create service context\n",
    "service_context = ServiceContext.from_defaults(llm=llm, embed_model=embed_model)\n",
    "\n"
   ]
  },
  {
   "cell_type": "markdown",
   "metadata": {},
   "source": [
    "## Creating Index"
   ]
  },
  {
   "cell_type": "code",
   "execution_count": 27,
   "metadata": {},
   "outputs": [
    {
     "name": "stderr",
     "output_type": "stream",
     "text": [
      "Parsing nodes: 100%|██████████| 5/5 [00:00<00:00, 157.96it/s]\n",
      "Generating embeddings:   0%|          | 0/6 [00:00<?, ?it/s]I0000 00:00:1721915557.832551   12834 subchannel.cc:806] subchannel 0x54c9070 {address=ipv6:%5B2404:6800:4009:802::200a%5D:443, args={grpc.client_channel_factory=0x404e6f0, grpc.default_authority=generativelanguage.googleapis.com:443, grpc.dns_enable_srv_queries=1, grpc.http2_scheme=https, grpc.internal.channel_credentials=0x4068f70, grpc.internal.client_channel_call_destination=0x714fd743a390, grpc.internal.event_engine=0x54e9460, grpc.internal.security_connector=0x5466990, grpc.internal.subchannel_pool=0x404f140, grpc.max_receive_message_length=-1, grpc.max_send_message_length=-1, grpc.primary_user_agent=grpc-python/1.65.1, grpc.resource_quota=0x4050ab0, grpc.server_uri=dns:///generativelanguage.googleapis.com:443}}: connect failed (UNKNOWN:connect: Network is unreachable (101) {created_time:\"2024-07-25T19:22:37.831703825+05:30\"}), backing off for 999 ms\n",
      "I0000 00:00:1721915558.086287   12837 subchannel.cc:806] subchannel 0x54bb8b0 {address=ipv6:%5B2404:6800:4009:821::200a%5D:443, args={grpc.client_channel_factory=0x404e6f0, grpc.default_authority=generativelanguage.googleapis.com:443, grpc.dns_enable_srv_queries=1, grpc.http2_scheme=https, grpc.internal.channel_credentials=0x4068f70, grpc.internal.client_channel_call_destination=0x714fd743a390, grpc.internal.event_engine=0x54b5f00, grpc.internal.security_connector=0x54be9a0, grpc.internal.subchannel_pool=0x404f140, grpc.max_receive_message_length=-1, grpc.max_send_message_length=-1, grpc.primary_user_agent=grpc-python/1.65.1, grpc.resource_quota=0x4050ab0, grpc.server_uri=dns:///generativelanguage.googleapis.com:443}}: connect failed (UNKNOWN:connect: Network is unreachable (101) {created_time:\"2024-07-25T19:22:38.085924262+05:30\"}), backing off for 999 ms\n",
      "I0000 00:00:1721915558.339374   12836 subchannel.cc:806] subchannel 0x3246ad0 {address=ipv6:%5B2404:6800:4009:812::200a%5D:443, args={grpc.client_channel_factory=0x404e6f0, grpc.default_authority=generativelanguage.googleapis.com:443, grpc.dns_enable_srv_queries=1, grpc.http2_scheme=https, grpc.internal.channel_credentials=0x4068f70, grpc.internal.client_channel_call_destination=0x714fd743a390, grpc.internal.event_engine=0x54b5f20, grpc.internal.security_connector=0x54b8a00, grpc.internal.subchannel_pool=0x404f140, grpc.max_receive_message_length=-1, grpc.max_send_message_length=-1, grpc.primary_user_agent=grpc-python/1.65.1, grpc.resource_quota=0x4050ab0, grpc.server_uri=dns:///generativelanguage.googleapis.com:443}}: connect failed (UNKNOWN:connect: Network is unreachable (101) {created_time:\"2024-07-25T19:22:38.339022543+05:30\"}), backing off for 999 ms\n",
      "I0000 00:00:1721915558.592718   12831 subchannel.cc:806] subchannel 0x54e2d80 {address=ipv6:%5B2404:6800:4009:813::200a%5D:443, args={grpc.client_channel_factory=0x404e6f0, grpc.default_authority=generativelanguage.googleapis.com:443, grpc.dns_enable_srv_queries=1, grpc.http2_scheme=https, grpc.internal.channel_credentials=0x4068f70, grpc.internal.client_channel_call_destination=0x714fd743a390, grpc.internal.event_engine=0x54b5420, grpc.internal.security_connector=0x54e2c20, grpc.internal.subchannel_pool=0x404f140, grpc.max_receive_message_length=-1, grpc.max_send_message_length=-1, grpc.primary_user_agent=grpc-python/1.65.1, grpc.resource_quota=0x4050ab0, grpc.server_uri=dns:///generativelanguage.googleapis.com:443}}: connect failed (UNKNOWN:connect: Network is unreachable (101) {created_time:\"2024-07-25T19:22:38.592234516+05:30\"}), backing off for 999 ms\n",
      "I0000 00:00:1721915558.833544   12832 subchannel.cc:761] subchannel 0x54c9070 {address=ipv6:%5B2404:6800:4009:802::200a%5D:443, args={grpc.client_channel_factory=0x404e6f0, grpc.default_authority=generativelanguage.googleapis.com:443, grpc.dns_enable_srv_queries=1, grpc.http2_scheme=https, grpc.internal.channel_credentials=0x4068f70, grpc.internal.client_channel_call_destination=0x714fd743a390, grpc.internal.event_engine=0x54e9460, grpc.internal.security_connector=0x5466990, grpc.internal.subchannel_pool=0x404f140, grpc.max_receive_message_length=-1, grpc.max_send_message_length=-1, grpc.primary_user_agent=grpc-python/1.65.1, grpc.resource_quota=0x4050ab0, grpc.server_uri=dns:///generativelanguage.googleapis.com:443}}: backoff delay elapsed, reporting IDLE\n",
      "I0000 00:00:1721915559.087276   12834 subchannel.cc:761] subchannel 0x54bb8b0 {address=ipv6:%5B2404:6800:4009:821::200a%5D:443, args={grpc.client_channel_factory=0x404e6f0, grpc.default_authority=generativelanguage.googleapis.com:443, grpc.dns_enable_srv_queries=1, grpc.http2_scheme=https, grpc.internal.channel_credentials=0x4068f70, grpc.internal.client_channel_call_destination=0x714fd743a390, grpc.internal.event_engine=0x54b5f00, grpc.internal.security_connector=0x54be9a0, grpc.internal.subchannel_pool=0x404f140, grpc.max_receive_message_length=-1, grpc.max_send_message_length=-1, grpc.primary_user_agent=grpc-python/1.65.1, grpc.resource_quota=0x4050ab0, grpc.server_uri=dns:///generativelanguage.googleapis.com:443}}: backoff delay elapsed, reporting IDLE\n",
      "Generating embeddings: 100%|██████████| 6/6 [00:09<00:00,  1.64s/it]\n"
     ]
    }
   ],
   "source": [
    "# Create index\n",
    "index = VectorStoreIndex.from_documents(\n",
    "    documents, \n",
    "    service_context=service_context,\n",
    "    show_progress=True\n",
    ")"
   ]
  },
  {
   "cell_type": "markdown",
   "metadata": {},
   "source": [
    "## Query from the index"
   ]
  },
  {
   "cell_type": "code",
   "execution_count": 28,
   "metadata": {},
   "outputs": [],
   "source": [
    "query_engine = index.as_query_engine()"
   ]
  },
  {
   "cell_type": "markdown",
   "metadata": {},
   "source": [
    "## Execute a query"
   ]
  },
  {
   "cell_type": "code",
   "execution_count": 29,
   "metadata": {},
   "outputs": [
    {
     "name": "stdout",
     "output_type": "stream",
     "text": [
      "Anya noticed a recurring pattern in the thought-symbols, a sequence that seemed to represent a concept of time. Further analysis revealed that the images depicted in the message weren't static landscapes, but rather a timeline. She meticulously studied the images, tracing the subtle changes in flora, fauna, and even the crystalline structures. \n",
      "\n"
     ]
    }
   ],
   "source": [
    "response = query_engine.query(\"how did Anya figure out that the images depicted a timeline of the civilization on Proxima Centauri b?\")\n",
    "print(response)"
   ]
  }
 ],
 "metadata": {
  "kernelspec": {
   "display_name": "Python 3",
   "language": "python",
   "name": "python3"
  },
  "language_info": {
   "codemirror_mode": {
    "name": "ipython",
    "version": 3
   },
   "file_extension": ".py",
   "mimetype": "text/x-python",
   "name": "python",
   "nbconvert_exporter": "python",
   "pygments_lexer": "ipython3",
   "version": "3.12.3"
  }
 },
 "nbformat": 4,
 "nbformat_minor": 2
}
