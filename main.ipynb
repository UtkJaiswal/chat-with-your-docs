{
 "cells": [
  {
   "cell_type": "markdown",
   "metadata": {},
   "source": [
    "## Dot env setup"
   ]
  },
  {
   "cell_type": "code",
   "execution_count": 1,
   "metadata": {},
   "outputs": [
    {
     "data": {
      "text/plain": [
       "True"
      ]
     },
     "execution_count": 1,
     "metadata": {},
     "output_type": "execute_result"
    }
   ],
   "source": [
    "import os\n",
    "from dotenv import load_dotenv\n",
    "load_dotenv()"
   ]
  },
  {
   "cell_type": "markdown",
   "metadata": {},
   "source": [
    "## GEMINI KEY is set"
   ]
  },
  {
   "cell_type": "code",
   "execution_count": 2,
   "metadata": {},
   "outputs": [
    {
     "name": "stdout",
     "output_type": "stream",
     "text": [
      "GEMINI_API_KEY is set\n"
     ]
    }
   ],
   "source": [
    "gemini_api_key = os.getenv('GEMINI_API_KEY')\n",
    "\n",
    "if gemini_api_key is None:\n",
    "    print(\"GEMINI_API_KEY is not set\")\n",
    "else:\n",
    "    os.environ['GEMINI_API_KEY'] = gemini_api_key\n",
    "    print(f\"GEMINI_API_KEY is set\")\n",
    "\n"
   ]
  },
  {
   "cell_type": "markdown",
   "metadata": {},
   "source": [
    "## Code to load data from the documents (PDFs)"
   ]
  },
  {
   "cell_type": "code",
   "execution_count": 20,
   "metadata": {},
   "outputs": [
    {
     "name": "stderr",
     "output_type": "stream",
     "text": [
      "Generating embeddings:  83%|████████▎ | 5/6 [11:51<02:22, 142.37s/it]\n",
      "Generating embeddings:  83%|████████▎ | 5/6 [08:35<01:43, 103.01s/it]\n"
     ]
    }
   ],
   "source": [
    "from llama_index.core import VectorStoreIndex, SimpleDirectoryReader\n",
    "from llama_index.llms.gemini import Gemini\n",
    "\n",
    "\n",
    "documents = SimpleDirectoryReader(\"data\").load_data()"
   ]
  },
  {
   "cell_type": "markdown",
   "metadata": {},
   "source": [
    "## Convert into an index"
   ]
  },
  {
   "cell_type": "code",
   "execution_count": 21,
   "metadata": {},
   "outputs": [
    {
     "name": "stderr",
     "output_type": "stream",
     "text": [
      "/tmp/ipykernel_6000/3005939010.py:21: DeprecationWarning: Call to deprecated class method from_defaults. (ServiceContext is deprecated, please use `llama_index.settings.Settings` instead.) -- Deprecated since version 0.10.0.\n",
      "  service_context = ServiceContext.from_defaults(llm=llm, embed_model=embed_model)\n",
      "Parsing nodes: 100%|██████████| 5/5 [00:00<00:00, 120.60it/s]\n",
      "Generating embeddings: 100%|██████████| 6/6 [00:07<00:00,  1.21s/it]\n"
     ]
    }
   ],
   "source": [
    "from llama_index.core import ServiceContext, Settings\n",
    "from llama_index.llms.gemini import Gemini\n",
    "from llama_index.embeddings.gemini import GeminiEmbedding\n",
    "from llama_index.core import VectorStoreIndex\n",
    "\n",
    "# Set up Gemini LLM\n",
    "llm = Gemini(\n",
    "    model=\"models/gemini-1.5-flash\",\n",
    "    api_key=gemini_api_key\n",
    ")\n",
    "\n",
    "# Set up Gemini Embedding model\n",
    "embed_model = GeminiEmbedding(api_key=gemini_api_key)\n",
    "\n",
    "# Configure settings\n",
    "Settings.llm = llm\n",
    "Settings.embed_model = embed_model\n",
    "Settings.chunk_size = 1024\n",
    "\n",
    "# Create service context\n",
    "service_context = ServiceContext.from_defaults(llm=llm, embed_model=embed_model)\n",
    "\n",
    "# Create index\n",
    "index = VectorStoreIndex.from_documents(\n",
    "    documents, \n",
    "    service_context=service_context,\n",
    "    show_progress=True\n",
    ")"
   ]
  },
  {
   "cell_type": "markdown",
   "metadata": {},
   "source": [
    "## Query from the index"
   ]
  },
  {
   "cell_type": "code",
   "execution_count": 22,
   "metadata": {},
   "outputs": [],
   "source": [
    "query_engine = index.as_query_engine()"
   ]
  },
  {
   "cell_type": "markdown",
   "metadata": {},
   "source": [
    "## Execute a query"
   ]
  },
  {
   "cell_type": "code",
   "execution_count": 23,
   "metadata": {},
   "outputs": [
    {
     "name": "stdout",
     "output_type": "stream",
     "text": [
      "Anya noticed a recurring pattern in the thought-symbols, a sequence that seemed to represent a concept of time. Further analysis revealed that the images depicted in the message weren't static landscapes, but rather a timeline. She meticulously studied the images, tracing the subtle changes in flora, fauna, and even the crystalline structures. \n",
      "\n"
     ]
    }
   ],
   "source": [
    "response = query_engine.query(\"how did Anya figure out that the images depicted a timeline of the civilization on Proxima Centauri b?\")\n",
    "print(response)"
   ]
  }
 ],
 "metadata": {
  "kernelspec": {
   "display_name": "Python 3",
   "language": "python",
   "name": "python3"
  },
  "language_info": {
   "codemirror_mode": {
    "name": "ipython",
    "version": 3
   },
   "file_extension": ".py",
   "mimetype": "text/x-python",
   "name": "python",
   "nbconvert_exporter": "python",
   "pygments_lexer": "ipython3",
   "version": "3.12.3"
  }
 },
 "nbformat": 4,
 "nbformat_minor": 2
}
